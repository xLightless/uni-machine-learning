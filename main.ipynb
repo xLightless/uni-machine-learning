{
 "cells": [
  {
   "cell_type": "markdown",
   "metadata": {},
   "source": [
    "# Subject: Machine Learning, 1st March 2024 to 3rd May 2024.\n",
    "## Topic: Group Project (Task B)\n",
    "## Learning Outcomes:\n",
    "- MO2: Select and apply machine learning algorithms to formulate \n",
    "solutions to different types of machine learning problems, taking \n",
    "into account criteria such data availability and characteristics, and \n",
    "problem-specific requirements for balancing speed, accuracy, and \n",
    "explainability.\n",
    "\n",
    "- MO3: Implement and evaluate contemporary machine learning \n",
    "solutions to application problems using a range of contemporary \n",
    "frameworks.\n",
    "\n",
    "- MO4: Demonstrate an awareness of the ethical and societal \n",
    "implications of machine learning solutions. \n",
    "\n",
    "\n",
    "**NOTE:** To pylint your code type \"pip install nbqa pylint //\n",
    "nbqa pylint my_notebook.ipynb\"."
   ]
  },
  {
   "cell_type": "code",
   "execution_count": 365,
   "metadata": {},
   "outputs": [
    {
     "name": "stdout",
     "output_type": "stream",
     "text": [
      "Installed dependencies.\n"
     ]
    }
   ],
   "source": [
    "import subprocess\n",
    "import os\n",
    "\n",
    "\n",
    "current_directory = os.path.dirname(os.path.abspath(\"main.ipynb\"))\n",
    "current_directory += \"/\"\n",
    "\n",
    "def install(requirements):\n",
    "    \"\"\"\n",
    "    Install all the relevent project dependencies.\n",
    "    \"\"\"\n",
    "\n",
    "    try:\n",
    "        if os.path.isdir('.venv'):\n",
    "            activate_script = os.path.join('.venv', 'bin', 'activate')\n",
    "            subprocess.check_call(['source', activate_script], shell=True)\n",
    "\n",
    "        with open(requirements, 'r') as f:\n",
    "            requirements = f.read().splitlines()\n",
    "            subprocess.check_call(['pip', 'install'] + requirements)\n",
    "        print(\"Installed dependencies.\")\n",
    "\n",
    "    except FileNotFoundError:\n",
    "        print(f\"File '{requirements}' not found.\")\n",
    "    except subprocess.CalledProcessError:\n",
    "        pass\n",
    "\n",
    "if __name__ == \"__main__\":\n",
    "    install(current_directory + \"project/requirements.txt\")\n",
    "\n"
   ]
  },
  {
   "cell_type": "markdown",
   "metadata": {},
   "source": [
    "## Model Variables\n",
    "Below are the variables we can use to fine-tune our models."
   ]
  },
  {
   "cell_type": "code",
   "execution_count": 366,
   "metadata": {},
   "outputs": [],
   "source": [
    "N_TIMESTEP = 10\n",
    "TEST_SIZE = 0.15\n",
    "UNITS = 128\n",
    "ACTIVATION_FUNCTION = \"relu\" # Non-linear\n",
    "RNN_ACTIVATION_FUNCTION = \"sigmoid\" # Linear\n",
    "RNN_OPTIMISER = \"adam\"\n",
    "LOSS_ERROR = \"mse\""
   ]
  },
  {
   "cell_type": "markdown",
   "metadata": {},
   "source": [
    "# Preprocessing our data"
   ]
  },
  {
   "cell_type": "code",
   "execution_count": 367,
   "metadata": {},
   "outputs": [
    {
     "name": "stdout",
     "output_type": "stream",
     "text": [
      "            Date         Close\n",
      "0     2020-03-08   8108.116211\n",
      "1     2020-03-09   7923.644531\n",
      "2     2020-03-10   7909.729492\n",
      "3     2020-03-11   7911.430176\n",
      "4     2020-03-12   4970.788086\n",
      "...          ...           ...\n",
      "1458  2024-03-05  63801.199219\n",
      "1459  2024-03-06  66106.804688\n",
      "1460  2024-03-07  66925.484375\n",
      "1461  2024-03-08  68300.093750\n",
      "1462  2024-03-09  68498.882812\n",
      "\n",
      "[1463 rows x 2 columns]\n"
     ]
    }
   ],
   "source": [
    "import pandas as pd\n",
    "import datetime as dt\n",
    "import warnings\n",
    "from pandas.errors import SettingWithCopyWarning\n",
    "\n",
    "warnings.simplefilter(action=\"ignore\", category=SettingWithCopyWarning)\n",
    "\n",
    "raw_data = pd.read_csv(current_directory + \"project/raw_data/BTC-USD.csv\")\n",
    "df = raw_data[[\"Date\", \"Close\"]]\n",
    "\n",
    "def to_datetime(s: str):\n",
    "    year, month, day = s.split(\"-\")\n",
    "    return dt.datetime(\n",
    "        int(year),\n",
    "        int(month),\n",
    "        int(day)\n",
    "    )\n",
    "\n",
    "close = df[\"Close\"]\n",
    "dates = df[\"Date\"].apply(to_datetime)\n",
    "print(df)"
   ]
  },
  {
   "cell_type": "markdown",
   "metadata": {},
   "source": [
    "### Partitioning and Normalisation\n",
    "Get the training set, validation set and test set for the model to work."
   ]
  },
  {
   "cell_type": "code",
   "execution_count": 368,
   "metadata": {},
   "outputs": [
    {
     "name": "stdout",
     "output_type": "stream",
     "text": [
      "1463\n",
      "[[4.93848924e-02 4.64811114e-02 4.62620738e-02 ... 6.63528250e-03\n",
      "  6.87757042e-04 4.01147413e-03]\n",
      " [4.64811114e-02 4.62620738e-02 4.62888444e-02 ... 6.87757042e-04\n",
      "  4.01147413e-03 4.21310275e-03]\n",
      " [4.62620738e-02 4.62888444e-02 0.00000000e+00 ... 4.01147413e-03\n",
      "  4.21310275e-03 1.92104736e-02]\n",
      " ...\n",
      " [7.79995284e-01 8.20339147e-01 9.05646568e-01 ... 9.97348122e-01\n",
      "  9.26053447e-01 9.62346138e-01]\n",
      " [8.20339147e-01 9.05646568e-01 8.85082340e-01 ... 9.26053447e-01\n",
      "  9.62346138e-01 9.75233030e-01]\n",
      " [9.05646568e-01 8.85082340e-01 9.04636680e-01 ... 9.62346138e-01\n",
      "  9.75233030e-01 9.96870848e-01]] length: 1453\n",
      "[0.0042131  0.01921047 0.01932988 ... 0.97523303 0.99687085 1.        ]\n"
     ]
    }
   ],
   "source": [
    "import numpy as np\n",
    "from sklearn.model_selection import train_test_split\n",
    "from sklearn.preprocessing import MinMaxScaler\n",
    "\n",
    "# Prepare X and y\n",
    "scaler = MinMaxScaler(feature_range=(0, 1))\n",
    "scaled_close_price = 'ScaledClosePrice'\n",
    "df[scaled_close_price] = scaler.fit_transform(df[[\"Close\"]])\n",
    "\n",
    "\n",
    "# N_TIMESTEP = 10 #\n",
    "n_samples = len(dates)\n",
    "print(n_samples)\n",
    "\n",
    "X = []\n",
    "y = []\n",
    "for i in range(len(df) - N_TIMESTEP):  # Adjusted loop iteration range\n",
    "    # Historical close prices\n",
    "    X.append(df[scaled_close_price].values[i:i+N_TIMESTEP])\n",
    "\n",
    "    # Future close price from dataset\n",
    "    y.append(df[scaled_close_price].values[i+N_TIMESTEP])\n",
    "\n",
    "X = np.array(X)\n",
    "y = np.array(y)\n",
    "\n",
    "print(X, \"length:\", len(X))\n",
    "print(y)"
   ]
  },
  {
   "cell_type": "code",
   "execution_count": 369,
   "metadata": {},
   "outputs": [
    {
     "name": "stdout",
     "output_type": "stream",
     "text": [
      "1453\n",
      "Training set: 0.7170198222829802 %\n",
      "Validation set: 0.127136021872864 %\n",
      "Test set: 0.14900888585099112 %\n"
     ]
    }
   ],
   "source": [
    "# Split the data into Samples, steps, then features\n",
    "X = np.reshape(X, (X.shape[0], N_TIMESTEP, 1))\n",
    "print(len(X))\n",
    "\n",
    "# Split the data into train, test and validation\n",
    "# First, split into train and test\n",
    "X_train, X_test, y_train, y_test = train_test_split(\n",
    "    X, y, test_size=TEST_SIZE, shuffle=False\n",
    ")\n",
    "\n",
    "# Calc validation remainder: (0.15 * (1 - 0.15)) / (1 - 0.15)\n",
    "validation_size = (TEST_SIZE * (1.0 - TEST_SIZE)) / (1.0 - TEST_SIZE)\n",
    "\n",
    "# Split the remaining data into validation and new train sets\n",
    "X_train, X_validation, y_train, y_validation = train_test_split(\n",
    "    X_train, y_train, test_size=validation_size, shuffle=False\n",
    ")\n",
    "\n",
    "print(\"Training set:\", len(X_train)/len(close), \"%\")\n",
    "print(\"Validation set:\", len(X_validation)/len(close), \"%\")\n",
    "print(\"Test set:\", len(X_test)/len(close), \"%\")\n"
   ]
  },
  {
   "cell_type": "code",
   "execution_count": 370,
   "metadata": {},
   "outputs": [
    {
     "data": {
      "image/png": "[encoded data removed]",
      "text/plain": [
       "<Figure size 1000x600 with 1 Axes>"
      ]
     },
     "metadata": {},
     "output_type": "display_data"
    }
   ],
   "source": [
    "import matplotlib.pyplot as plt\n",
    "\n",
    "# Calculate the indices for train, validation, and test sets\n",
    "train_start, train_end = 0, len(X_train) - 1\n",
    "validation_start, validation_end = len(X_train), len(X_train) + len(X_validation) - 1\n",
    "test_start, test_end = len(X_train) + len(X_validation), len(X_train) + len(X_validation) + len(X_test) - 1\n",
    "\n",
    "plt.figure(figsize=(10, 6))\n",
    "\n",
    "# Plot train set\n",
    "plt.plot(range(train_start, train_end + 1), np.mean(X_train[:, :, 0], axis=1), color='blue', label=\"Training Set\")\n",
    "\n",
    "# Plot validation set\n",
    "plt.plot(range(validation_start, validation_end + 1), np.mean(X_validation[:, :, 0], axis=1), color='orange', label=\"Validation Set\")\n",
    "\n",
    "# Plot test set\n",
    "plt.plot(range(test_start, test_end + 1), np.mean(X_test[:, :, 0], axis=1), color='green', label=\"Test Set\")\n",
    "\n",
    "plt.xlabel('Index')\n",
    "plt.ylabel('Normalized Close Price')\n",
    "plt.title(\"Cryptocurrency Market Prices\")\n",
    "plt.legend()\n",
    "plt.show()\n"
   ]
  },
  {
   "cell_type": "code",
   "execution_count": 371,
   "metadata": {},
   "outputs": [
    {
     "name": "stdout",
     "output_type": "stream",
     "text": [
      "1453\n"
     ]
    }
   ],
   "source": [
    "# # Visualise the data:\n",
    "target_variable = 'Next Close'\n",
    "X_reshaped = np.reshape(X, (X.shape[0], -1))\n",
    "X_df = pd.DataFrame(X_reshaped, columns=[f\"Close_{i}\" for i in range(X.shape[1])])\n",
    "y_df = pd.DataFrame(y, columns=[target_variable])\n",
    "data_df = pd.concat([X_df, y_df], axis=1)\n",
    "\n",
    "# Display the DataFrame\n",
    "print(len(data_df[target_variable]))"
   ]
  },
  {
   "cell_type": "markdown",
   "metadata": {},
   "source": [
    "## Creating the Models"
   ]
  },
  {
   "cell_type": "code",
   "execution_count": 372,
   "metadata": {},
   "outputs": [
    {
     "name": "stdout",
     "output_type": "stream",
     "text": [
      "(1453, 10, 1) (1453,) (1049, 10, 1) (1049,) (218, 10, 1) (218,) (186, 10, 1) (186,)\n"
     ]
    },
    {
     "name": "stderr",
     "output_type": "stream",
     "text": [
      "c:\\Program Development\\UWE Bristol\\Year 2\\Machine Learning\\github\\v1\\uni-machine-learning\\.venv\\Lib\\site-packages\\keras\\src\\layers\\rnn\\rnn.py:204: UserWarning: Do not pass an `input_shape`/`input_dim` argument to a layer. When using Sequential models, prefer using an `Input(shape)` object as the first layer in the model instead.\n",
      "  super().__init__(**kwargs)\n"
     ]
    }
   ],
   "source": [
    "import tensorflow as tf\n",
    "\n",
    "try:\n",
    "    from keras.api.models import Sequential\n",
    "    from keras.api.layers import LSTM, Dense\n",
    "except ImportError:\n",
    "    from tensorflow.keras.models import Sequential\n",
    "    from tensorflow.keras.layers import LSTM\n",
    "\n",
    "def create_model(\n",
    "    units: int,\n",
    "    activation: str = \"relu\",\n",
    "    recurrent_activation: str = \"sigmoid\",\n",
    "    optimizer: str = \"adam\"\n",
    ") -> Sequential:\n",
    "\n",
    "    model = Sequential()\n",
    "    model.add(LSTM(\n",
    "        units,\n",
    "        activation=activation,\n",
    "        recurrent_activation=recurrent_activation,\n",
    "        # return_sequences=True,\n",
    "        return_sequences=False,\n",
    "        input_shape=(N_TIMESTEP, 1)\n",
    "    ))\n",
    "\n",
    "    # Output Layer. Updates dimensionality.\n",
    "    model.add(Dense(\n",
    "        1\n",
    "    ))\n",
    "\n",
    "    model.compile(optimizer=optimizer, loss=LOSS_ERROR)\n",
    "    return model\n",
    "\n",
    "lstm_model = create_model(\n",
    "    units=UNITS,\n",
    "    activation=ACTIVATION_FUNCTION,\n",
    "    recurrent_activation=RNN_ACTIVATION_FUNCTION,\n",
    "    optimizer=RNN_OPTIMISER\n",
    ")\n",
    "\n",
    "print(X.shape, y.shape, X_train.shape, y_train.shape, X_test.shape, y_test.shape, X_validation.shape, y_validation.shape)"
   ]
  },
  {
   "cell_type": "code",
   "execution_count": 377,
   "metadata": {},
   "outputs": [
    {
     "name": "stdout",
     "output_type": "stream",
     "text": [
      "\u001b[1m7/7\u001b[0m \u001b[32m━━━━━━━━━━━━━━━━━━━━\u001b[0m\u001b[37m\u001b[0m \u001b[1m0s\u001b[0m 2ms/step - loss: 3.4681e-04 \n",
      "\u001b[1m7/7\u001b[0m \u001b[32m━━━━━━━━━━━━━━━━━━━━\u001b[0m\u001b[37m\u001b[0m \u001b[1m0s\u001b[0m 2ms/step \n"
     ]
    }
   ],
   "source": [
    "from tensorflow.keras.callbacks import EarlyStopping\n",
    "\n",
    "# We use this object to monitor the loss of the model.\n",
    "# After 'patient' consecutive attempts if no improvement we stop running the model.\n",
    "# We use val_loss since we are fine-tuning with validation data.\n",
    "loss_callback = EarlyStopping(\n",
    "    monitor='val_loss',\n",
    "    patience=3,\n",
    "    restore_best_weights=True\n",
    ")\n",
    "\n",
    "# Fit the model.\n",
    "# Since we dont have explicit labels for validation monitor performance\n",
    "# during training instead.\n",
    "model_data = lstm_model.fit(\n",
    "    X_train, y_train,\n",
    "    epochs=50,\n",
    "    batch_size=32,\n",
    "    validation_data=(X_validation, y_validation),\n",
    "    callbacks=[loss_callback],\n",
    "    verbose=False\n",
    ")\n",
    "\n",
    "# Pass in true values to evaluate loss\n",
    "model_loss = lstm_model.evaluate(X_test, y_test)\n",
    "predictions = lstm_model.predict(X_test)"
   ]
  },
  {
   "cell_type": "code",
   "execution_count": 374,
   "metadata": {},
   "outputs": [
    {
     "data": {
      "text/plain": [
       "<matplotlib.legend.Legend at 0x1b864387d90>"
      ]
     },
     "execution_count": 374,
     "metadata": {},
     "output_type": "execute_result"
    },
    {
     "data": {
      "image/png": "[encoded data removed]",
      "text/plain": [
       "<Figure size 640x480 with 1 Axes>"
      ]
     },
     "metadata": {},
     "output_type": "display_data"
    }
   ],
   "source": [
    "import matplotlib.pyplot as plt\n",
    "\n",
    "# Plot training and validation loss curves\n",
    "plt.plot(model_data.history['loss'], label='Training Loss')\n",
    "plt.plot(model_data.history['val_loss'], label='Validation Loss')\n",
    "plt.xlabel('Epoch')\n",
    "plt.ylabel('Loss')\n",
    "plt.legend()"
   ]
  },
  {
   "cell_type": "markdown",
   "metadata": {},
   "source": [
    "## Grid Search the Models"
   ]
  },
  {
   "cell_type": "code",
   "execution_count": 375,
   "metadata": {},
   "outputs": [],
   "source": [
    "from sklearn.model_selection import GridSearchCV\n",
    "from sklearn.base import BaseEstimator, RegressorMixin\n",
    "\n",
    "# # Create a keras wrapper for sklearn grid search\n",
    "class KerasRegressor(BaseEstimator, RegressorMixin):\n",
    "    def __init__(self, func, **kwargs):\n",
    "        self.func = func\n",
    "        self.kwargs = kwargs\n",
    "\n",
    "    def fit(self, X, y, **kwargs):\n",
    "        self.model = self.func(**kwargs)\n",
    "        self.model.fit(X, y, **kwargs)\n",
    "        return self\n",
    "\n",
    "    def predict(self, X):\n",
    "        return self.model.predict(X)\n",
    "\n",
    "# regressor_model = KerasRegressor(lstm_model, verbose=0)\n",
    "\n",
    "# grid_search_params = {\n",
    "#     \"units\": [32, 64, 128]\n",
    "# }\n",
    "\n",
    "# def create_grid_search():\n",
    "#     model = GridSearchCV()"
   ]
  }
 ],
 "metadata": {
  "kernelspec": {
   "display_name": ".venv",
   "language": "python",
   "name": "python3"
  },
  "language_info": {
   "codemirror_mode": {
    "name": "ipython",
    "version": 3
   },
   "file_extension": ".py",
   "mimetype": "text/x-python",
   "name": "python",
   "nbconvert_exporter": "python",
   "pygments_lexer": "ipython3",
   "version": "3.11.4"
  }
 },
 "nbformat": 4,
 "nbformat_minor": 2
}
