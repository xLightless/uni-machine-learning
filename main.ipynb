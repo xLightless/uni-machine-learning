{
 "cells": [
  {
   "cell_type": "code",
   "execution_count": null,
   "metadata": {},
   "outputs": [],
   "source": [
    "import subprocess\n",
    "import os\n",
    "\n",
    "\n",
    "current_directory = os.path.dirname(os.path.abspath(\"main.ipynb\"))\n",
    "current_directory += \"/\"\n",
    "\n",
    "def install(requirements):\n",
    "    \"\"\"\n",
    "    Install all the relevent project dependencies.\n",
    "    \"\"\"\n",
    "\n",
    "    try:\n",
    "        if os.path.isdir('.venv'):\n",
    "            activate_script = os.path.join('.venv', 'bin', 'activate')\n",
    "            subprocess.check_call(['source', activate_script], shell=True)\n",
    "\n",
    "        with open(requirements, 'r') as f:\n",
    "            requirements = f.read().splitlines()\n",
    "            subprocess.check_call(['pip', 'install'] + requirements)\n",
    "        print(\"Installed dependencies.\")\n",
    "\n",
    "    except FileNotFoundError:\n",
    "        print(f\"File '{requirements}' not found.\")\n",
    "    except subprocess.CalledProcessError:\n",
    "        pass\n",
    "\n",
    "if __name__ == \"__main__\":\n",
    "    install(current_directory + \"project/requirements.txt\")\n",
    "\n"
   ]
  },
  {
   "cell_type": "code",
   "execution_count": 5,
   "metadata": {},
   "outputs": [
    {
     "name": "stdout",
     "output_type": "stream",
     "text": [
      "            Date          Open          High           Low         Close  \\\n",
      "0     2020-03-08   8908.206055   8914.343750   8105.252930   8108.116211   \n",
      "1     2020-03-09   8111.146484   8177.793457   7690.098145   7923.644531   \n",
      "2     2020-03-10   7922.146973   8136.945312   7814.763184   7909.729492   \n",
      "3     2020-03-11   7910.089844   7950.814453   7642.812500   7911.430176   \n",
      "4     2020-03-12   7913.616211   7929.116211   4860.354004   4970.788086   \n",
      "...          ...           ...           ...           ...           ...   \n",
      "1458  2024-03-05  68341.054688  69170.625000  59323.910156  63801.199219   \n",
      "1459  2024-03-06  63776.050781  67637.929688  62848.671875  66106.804688   \n",
      "1460  2024-03-07  66099.742188  68029.921875  65655.531250  66925.484375   \n",
      "1461  2024-03-08  66938.093750  70083.054688  66230.453125  68300.093750   \n",
      "1462  2024-03-09  68299.257812  68673.054688  68053.125000  68498.882812   \n",
      "\n",
      "         Adj Close        Volume  \n",
      "0      8108.116211   39973102121  \n",
      "1      7923.644531   46936995808  \n",
      "2      7909.729492   42213940994  \n",
      "3      7911.430176   38682762605  \n",
      "4      4970.788086   53980357243  \n",
      "...            ...           ...  \n",
      "1458  63801.199219  102802940877  \n",
      "1459  66106.804688   68750229073  \n",
      "1460  66925.484375   46989543159  \n",
      "1461  68300.093750   59202881172  \n",
      "1462  68498.882812   21609650379  \n",
      "\n",
      "[1463 rows x 7 columns]\n"
     ]
    }
   ],
   "source": [
    "import pandas as pd\n",
    "import yfinance as yf\n",
    "\n",
    "data = pd.read_csv(current_directory + \"raw_data/BTC-USD.csv\")\n",
    "print(data)\n"
   ]
  },
  {
   "cell_type": "code",
   "execution_count": null,
   "metadata": {},
   "outputs": [],
   "source": []
  }
 ],
 "metadata": {
  "kernelspec": {
   "display_name": ".venv",
   "language": "python",
   "name": "python3"
  },
  "language_info": {
   "codemirror_mode": {
    "name": "ipython",
    "version": 3
   },
   "file_extension": ".py",
   "mimetype": "text/x-python",
   "name": "python",
   "nbconvert_exporter": "python",
   "pygments_lexer": "ipython3",
   "version": "3.11.4"
  }
 },
 "nbformat": 4,
 "nbformat_minor": 2
}
