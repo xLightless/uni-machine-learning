{
 "cells": [
  {
   "cell_type": "markdown",
   "metadata": {},
   "source": [
    "# Topic: Individual Assessment\n",
    "## Using ML algorithm classification on real world data.\n",
    "## Machine Learning, 19th Feb 2024 - 29th March 2024.\n",
    "\n",
    "# Learning Outcomes:\n",
    "## MO1 Compare and contrast the basic principles and characteristics# Learning Outcomes"
   ]
  }
 ],
 "metadata": {
  "language_info": {
   "name": "python"
  }
 },
 "nbformat": 4,
 "nbformat_minor": 2
}
