{
 "cells": [
  {
   "cell_type": "markdown",
   "metadata": {},
   "source": [
    "# Subject: Machine Learning, 19th Feb 2024 - 29th March 2024.\n",
    "### Topic: Individual Assessment.\n",
    "- Research Purpose: Using real-world data sets on supervised learning models to test accuracy of two algorithms.\n",
    "\n",
    "### Learning Outcomes:\n",
    "- MO1: Compare and contrast the basic principles and characteristics."
   ]
  },
  {
   "cell_type": "markdown",
   "metadata": {},
   "source": [
    "# Support Vector Machines (SVM) ?\n",
    "SVMs are a Machine Learning Algorithm built on supervision with the use of classification to group classified problems via their usefulness and features.\n",
    "\n",
    "There are 3 types of Kernals in SVM. Those being Radial basis function (RBF), non-linear and linear. Since our decision boundaries are primarily focused on **linear** SVM, it's understandable to use a support vectors that classify by the total features of the dataset.\n",
    "- Left side support hyperplane (vector) (L1): $H: w^Tx+b = -1$\n",
    "- Maximized margin decision Hyperplane (L): $H: w^Tx+b = 0$\n",
    "- Right side support hyperplane (vector) (L1): $H: w^Tx+b = 1$\n",
    "\n",
    "\n",
    "*Note: $w$ denotes weight, $x$ denotes input and $b$ denotes bias.*\n",
    "\n",
    "\n",
    "The basic idea of SVM is to find an appropriate hyper plane which discovers the widest possible lanes on both sides with respect to the 2 dimensional space. \n",
    "\n",
    "### Links:\n",
    "\"Lecture 3: The Perceptron\" (2024) cornell.edu. [online] Available from: https://www.cs.cornell.edu/courses/cs4780/2018fa/lectures/lecturenote03.html [Accessed 20th March 2024]"
   ]
  },
  {
   "cell_type": "markdown",
   "metadata": {},
   "source": [
    "# Esembles ?\n",
    "Some text about esembles"
   ]
  },
  {
   "cell_type": "markdown",
   "metadata": {},
   "source": [
    "## Import libraries to run the project:"
   ]
  },
  {
   "cell_type": "code",
   "execution_count": null,
   "metadata": {},
   "outputs": [],
   "source": [
    "\"\"\"\n",
    "This notebook is part of the Individual Assessment.\n",
    "It contains two supervised learning models with information\n",
    "about their use-case and the understanding of different\n",
    "classifications of real-world datasets.\n",
    "\n",
    "Originally made by Reece Turner, 22036698.\n",
    "\"\"\"\n",
    "\n",
    "import matplotlib.pyplot as plt\n",
    "import numpy as np\n",
    "import pandas as pd\n",
    "import os\n",
    "\n",
    "from sklearn.svm import SVC\n",
    "from sklearn.model_selection import train_test_split\n",
    "from sklearn.metrics import accuracy_score\n",
    "from sklearn.preprocessing import StandardScaler\n",
    "\n",
    "# Active root directory of the project folder\n",
    "current_directory = os.path.dirname(os.path.abspath(__name__))\n",
    "current_directory += \"\\\\\""
   ]
  },
  {
   "cell_type": "markdown",
   "metadata": {},
   "source": [
    "## Analysis and treatment of dataset (10%)\n",
    "This is a fundamental step in any Machine Learning Algorithm. It is important to preprocess data to normalize it later. In the most basic form, this involves:\n",
    "\n",
    "- Identifying missing or NULL values. Our algorithms cannot produce reliable replicable data if the dataset is erroneous.\n",
    "\n",
    "- "
   ]
  },
  {
   "cell_type": "markdown",
   "metadata": {},
   "source": [
    "### Data Collection"
   ]
  },
  {
   "cell_type": "code",
   "execution_count": null,
   "metadata": {},
   "outputs": [],
   "source": [
    "data = pd.read_csv(current_directory + \"dataset\\diabetes.csv\")\n",
    "X = data.drop(columns=[\"Outcome\"])\n",
    "y = data[\"Outcome\"]"
   ]
  },
  {
   "cell_type": "markdown",
   "metadata": {},
   "source": [
    "### Data Transformation"
   ]
  },
  {
   "cell_type": "markdown",
   "metadata": {},
   "source": [
    "## Model and Training (40%):"
   ]
  },
  {
   "cell_type": "markdown",
   "metadata": {},
   "source": [
    "### Identify Invalid Data\n",
    "Now that we have read the data into memory, we need to fill in the missing values and normalize the data. This will allow us to predict more accurate \"Outcome\" (target variable) results. \n",
    "Since our SVM is a supervised learning model and not a neural network, even though there is a bias, indicates our Linear SVM hyperperameters are classification, a kernal cost function e.g. linear and a bias.\n",
    "\n"
   ]
  },
  {
   "cell_type": "code",
   "execution_count": null,
   "metadata": {},
   "outputs": [],
   "source": [
    "feature_columns = data.columns.drop(\"Outcome\")"
   ]
  },
  {
   "cell_type": "markdown",
   "metadata": {},
   "source": [
    "## Prediction and Evaluation (30%)\n",
    "### Support Vector Machines (SVM)"
   ]
  },
  {
   "cell_type": "markdown",
   "metadata": {},
   "source": [
    "## Comparison of Two Models (10%)\n",
    "\n",
    "- Summarize the key differences and similarities between SVM and ensemble methods in terms of their algorithmic characteristics and performance.\n",
    "- Emphasize the importance of considering the specific requirements and constraints of the problem domain when selecting between SVM and ensemble methods.\n"
   ]
  },
  {
   "cell_type": "markdown",
   "metadata": {},
   "source": [
    "# Notes\n",
    "- We load the dataset and split it into features (X) and the target variable (y).\n",
    "- We split the data into training and testing sets.\n",
    "- We create an SVM classifier with a linear kernel and train it on the training data.\n",
    "- We make predictions on the test set and calculate the accuracy of the model.\n",
    "- We visualize the decision boundary of the SVM model on a scatter plot using two features (Glucose and BMI). The points are colored according to the target variable (Outcome)."
   ]
  }
 ],
 "metadata": {
  "kernelspec": {
   "display_name": "Python 3",
   "language": "python",
   "name": "python3"
  },
  "language_info": {
   "codemirror_mode": {
    "name": "ipython",
    "version": 3
   },
   "file_extension": ".py",
   "mimetype": "text/x-python",
   "name": "python",
   "nbconvert_exporter": "python",
   "pygments_lexer": "ipython3",
   "version": "3.11.4"
  }
 },
 "nbformat": 4,
 "nbformat_minor": 2
}
