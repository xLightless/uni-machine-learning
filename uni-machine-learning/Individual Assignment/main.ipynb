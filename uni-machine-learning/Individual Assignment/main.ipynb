{
 "cells": [
  {
   "cell_type": "markdown",
   "metadata": {},
   "source": [
    "# Subject: Machine Learning, 19th Feb 2024 - 29th March 2024.\n",
    "### Topic: Individual Assessment.\n",
    "### Reason: Using ML algorithm classification on real world data.\n",
    "\n",
    "### Learning Outcomes:\n",
    "#### MO1 Compare and contrast the basic principles and characteristics# Learning Outcomes"
   ]
  },
  {
   "cell_type": "code",
   "execution_count": null,
   "metadata": {},
   "outputs": [],
   "source": [
    "# Import required libraries\n",
    "import matplotlib.pyplot as plt\n",
    "import numpy as np\n",
    "import pandas as pd\n",
    "import os\n",
    "\n",
    "from sklearn.model_selection import train_test_split\n",
    "\n",
    "# Active root directory of the project folder\n",
    "current_directory = os.path.dirname(os.path.abspath(__name__))\n",
    "current_directory += \"\\\\\""
   ]
  },
  {
   "cell_type": "markdown",
   "metadata": {},
   "source": [
    "# Support Vector Machines (SVM)\n",
    "SVMs are a Machine Learning Algorithm built on supervision with the use of Classification to group classified problems via their usefulness and features.\n",
    "\n",
    "### Analysis and treatment of dataset (10%):\n",
    "### Model and Training (40%):\n",
    "### Prediction and Evaluation (30%):\n",
    "### Comparison of Two Models (10%):"
   ]
  },
  {
   "cell_type": "code",
   "execution_count": null,
   "metadata": {},
   "outputs": [],
   "source": [
    "TEST_DATA_PERCENTAGE = 0.2\n",
    "\n",
    "# Selection\n",
    "data = pd.read_csv(current_directory + \"dataset\\diabetes.csv\")\n",
    "\n",
    "## Split the data into features and variables\n",
    "X = data.drop(columns=[\"Outcome\"])\n",
    "y = data[\"Outcome\"]\n",
    "\n",
    "## Create the training and test data\n",
    "X_train, X_test, y_train, y_test = train_test_split(\n",
    "    X, y, test_size=TEST_DATA_PERCENTAGE, random_state=0\n",
    ")"
   ]
  },
  {
   "cell_type": "markdown",
   "metadata": {},
   "source": [
    "# Training\n",
    " l"
   ]
  }
 ],
 "metadata": {
  "kernelspec": {
   "display_name": "Python 3",
   "language": "python",
   "name": "python3"
  },
  "language_info": {
   "codemirror_mode": {
    "name": "ipython",
    "version": 3
   },
   "file_extension": ".py",
   "mimetype": "text/x-python",
   "name": "python",
   "nbconvert_exporter": "python",
   "pygments_lexer": "ipython3",
   "version": "3.11.4"
  }
 },
 "nbformat": 4,
 "nbformat_minor": 2
}
